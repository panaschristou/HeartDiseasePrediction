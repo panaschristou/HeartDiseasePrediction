{
  "nbformat": 4,
  "nbformat_minor": 0,
  "metadata": {
    "colab": {
      "name": "HeartDiseasePredictionProject.ipynb",
      "provenance": [],
      "collapsed_sections": [
        "7fTDQEOBlmgO",
        "TeAoAxZ-77Yv"
      ],
      "toc_visible": true
    },
    "kernelspec": {
      "name": "python3",
      "display_name": "Python 3"
    },
    "language_info": {
      "name": "python"
    }
  },
  "cells": [
    {
      "cell_type": "markdown",
      "metadata": {
        "id": "7fTDQEOBlmgO"
      },
      "source": [
        "# **Exploratory Data Analysis**"
      ]
    },
    {
      "cell_type": "markdown",
      "metadata": {
        "id": "SPxKvKxqMgO4"
      },
      "source": [
        "**Important Libraries**"
      ]
    },
    {
      "cell_type": "code",
      "metadata": {
        "id": "Q8MKFp1-lkFY"
      },
      "source": [
        "import numpy as np\n",
        "import matplotlib as plt\n",
        "import pandas as pd\n",
        "import sklearn as skl\n",
        "import tensorflow as tf\n",
        "\n",
        "import matplotlib.pyplot as plt\n",
        "import seaborn as sns\n",
        "\n",
        "%matplotlib inline"
      ],
      "execution_count": 268,
      "outputs": []
    },
    {
      "cell_type": "markdown",
      "metadata": {
        "id": "eV6bzQz9Mst_"
      },
      "source": [
        "**Import Data Set and Display Data**"
      ]
    },
    {
      "cell_type": "code",
      "metadata": {
        "colab": {
          "base_uri": "https://localhost:8080/",
          "height": 0
        },
        "id": "5uNUNv84M5Ue",
        "outputId": "0ff3f8d3-84c3-4973-cc51-214a660a510e"
      },
      "source": [
        "#import the data and inspect to see the shape and the magnitude/type of varibales\n",
        "\n",
        "heart_data=pd.read_csv('/content/drive/MyDrive/NYU Data Science Bootcamp/heart.csv')\n",
        "df=heart_data\n",
        "df.head()"
      ],
      "execution_count": 269,
      "outputs": [
        {
          "output_type": "execute_result",
          "data": {
            "text/html": [
              "<div>\n",
              "<style scoped>\n",
              "    .dataframe tbody tr th:only-of-type {\n",
              "        vertical-align: middle;\n",
              "    }\n",
              "\n",
              "    .dataframe tbody tr th {\n",
              "        vertical-align: top;\n",
              "    }\n",
              "\n",
              "    .dataframe thead th {\n",
              "        text-align: right;\n",
              "    }\n",
              "</style>\n",
              "<table border=\"1\" class=\"dataframe\">\n",
              "  <thead>\n",
              "    <tr style=\"text-align: right;\">\n",
              "      <th></th>\n",
              "      <th>age</th>\n",
              "      <th>sex</th>\n",
              "      <th>cp</th>\n",
              "      <th>trestbps</th>\n",
              "      <th>chol</th>\n",
              "      <th>fbs</th>\n",
              "      <th>restecg</th>\n",
              "      <th>thalach</th>\n",
              "      <th>exang</th>\n",
              "      <th>oldpeak</th>\n",
              "      <th>slope</th>\n",
              "      <th>ca</th>\n",
              "      <th>thal</th>\n",
              "      <th>target</th>\n",
              "    </tr>\n",
              "  </thead>\n",
              "  <tbody>\n",
              "    <tr>\n",
              "      <th>0</th>\n",
              "      <td>63</td>\n",
              "      <td>1</td>\n",
              "      <td>3</td>\n",
              "      <td>145</td>\n",
              "      <td>233</td>\n",
              "      <td>1</td>\n",
              "      <td>0</td>\n",
              "      <td>150</td>\n",
              "      <td>0</td>\n",
              "      <td>2.3</td>\n",
              "      <td>0</td>\n",
              "      <td>0</td>\n",
              "      <td>1</td>\n",
              "      <td>1</td>\n",
              "    </tr>\n",
              "    <tr>\n",
              "      <th>1</th>\n",
              "      <td>37</td>\n",
              "      <td>1</td>\n",
              "      <td>2</td>\n",
              "      <td>130</td>\n",
              "      <td>250</td>\n",
              "      <td>0</td>\n",
              "      <td>1</td>\n",
              "      <td>187</td>\n",
              "      <td>0</td>\n",
              "      <td>3.5</td>\n",
              "      <td>0</td>\n",
              "      <td>0</td>\n",
              "      <td>2</td>\n",
              "      <td>1</td>\n",
              "    </tr>\n",
              "    <tr>\n",
              "      <th>2</th>\n",
              "      <td>41</td>\n",
              "      <td>0</td>\n",
              "      <td>1</td>\n",
              "      <td>130</td>\n",
              "      <td>204</td>\n",
              "      <td>0</td>\n",
              "      <td>0</td>\n",
              "      <td>172</td>\n",
              "      <td>0</td>\n",
              "      <td>1.4</td>\n",
              "      <td>2</td>\n",
              "      <td>0</td>\n",
              "      <td>2</td>\n",
              "      <td>1</td>\n",
              "    </tr>\n",
              "    <tr>\n",
              "      <th>3</th>\n",
              "      <td>56</td>\n",
              "      <td>1</td>\n",
              "      <td>1</td>\n",
              "      <td>120</td>\n",
              "      <td>236</td>\n",
              "      <td>0</td>\n",
              "      <td>1</td>\n",
              "      <td>178</td>\n",
              "      <td>0</td>\n",
              "      <td>0.8</td>\n",
              "      <td>2</td>\n",
              "      <td>0</td>\n",
              "      <td>2</td>\n",
              "      <td>1</td>\n",
              "    </tr>\n",
              "    <tr>\n",
              "      <th>4</th>\n",
              "      <td>57</td>\n",
              "      <td>0</td>\n",
              "      <td>0</td>\n",
              "      <td>120</td>\n",
              "      <td>354</td>\n",
              "      <td>0</td>\n",
              "      <td>1</td>\n",
              "      <td>163</td>\n",
              "      <td>1</td>\n",
              "      <td>0.6</td>\n",
              "      <td>2</td>\n",
              "      <td>0</td>\n",
              "      <td>2</td>\n",
              "      <td>1</td>\n",
              "    </tr>\n",
              "  </tbody>\n",
              "</table>\n",
              "</div>"
            ],
            "text/plain": [
              "   age  sex  cp  trestbps  chol  fbs  ...  exang  oldpeak  slope  ca  thal  target\n",
              "0   63    1   3       145   233    1  ...      0      2.3      0   0     1       1\n",
              "1   37    1   2       130   250    0  ...      0      3.5      0   0     2       1\n",
              "2   41    0   1       130   204    0  ...      0      1.4      2   0     2       1\n",
              "3   56    1   1       120   236    0  ...      0      0.8      2   0     2       1\n",
              "4   57    0   0       120   354    0  ...      1      0.6      2   0     2       1\n",
              "\n",
              "[5 rows x 14 columns]"
            ]
          },
          "metadata": {},
          "execution_count": 269
        }
      ]
    },
    {
      "cell_type": "markdown",
      "metadata": {
        "id": "7LFzyGyAM6XY"
      },
      "source": [
        "**Compute Basic Statistics of the Dataset**"
      ]
    },
    {
      "cell_type": "code",
      "metadata": {
        "colab": {
          "base_uri": "https://localhost:8080/",
          "height": 0
        },
        "id": "r5dmqkiNNBCv",
        "outputId": "43ddc526-c2c6-4c31-99b0-1f439a477db8"
      },
      "source": [
        "#find the general statistics of the dataset to get an idea of any correlations in the data\n",
        "\n",
        "df.describe()"
      ],
      "execution_count": 270,
      "outputs": [
        {
          "output_type": "execute_result",
          "data": {
            "text/html": [
              "<div>\n",
              "<style scoped>\n",
              "    .dataframe tbody tr th:only-of-type {\n",
              "        vertical-align: middle;\n",
              "    }\n",
              "\n",
              "    .dataframe tbody tr th {\n",
              "        vertical-align: top;\n",
              "    }\n",
              "\n",
              "    .dataframe thead th {\n",
              "        text-align: right;\n",
              "    }\n",
              "</style>\n",
              "<table border=\"1\" class=\"dataframe\">\n",
              "  <thead>\n",
              "    <tr style=\"text-align: right;\">\n",
              "      <th></th>\n",
              "      <th>age</th>\n",
              "      <th>sex</th>\n",
              "      <th>cp</th>\n",
              "      <th>trestbps</th>\n",
              "      <th>chol</th>\n",
              "      <th>fbs</th>\n",
              "      <th>restecg</th>\n",
              "      <th>thalach</th>\n",
              "      <th>exang</th>\n",
              "      <th>oldpeak</th>\n",
              "      <th>slope</th>\n",
              "      <th>ca</th>\n",
              "      <th>thal</th>\n",
              "      <th>target</th>\n",
              "    </tr>\n",
              "  </thead>\n",
              "  <tbody>\n",
              "    <tr>\n",
              "      <th>count</th>\n",
              "      <td>303.000000</td>\n",
              "      <td>303.000000</td>\n",
              "      <td>303.000000</td>\n",
              "      <td>303.000000</td>\n",
              "      <td>303.000000</td>\n",
              "      <td>303.000000</td>\n",
              "      <td>303.000000</td>\n",
              "      <td>303.000000</td>\n",
              "      <td>303.000000</td>\n",
              "      <td>303.000000</td>\n",
              "      <td>303.000000</td>\n",
              "      <td>303.000000</td>\n",
              "      <td>303.000000</td>\n",
              "      <td>303.000000</td>\n",
              "    </tr>\n",
              "    <tr>\n",
              "      <th>mean</th>\n",
              "      <td>54.366337</td>\n",
              "      <td>0.683168</td>\n",
              "      <td>0.966997</td>\n",
              "      <td>131.623762</td>\n",
              "      <td>246.264026</td>\n",
              "      <td>0.148515</td>\n",
              "      <td>0.528053</td>\n",
              "      <td>149.646865</td>\n",
              "      <td>0.326733</td>\n",
              "      <td>1.039604</td>\n",
              "      <td>1.399340</td>\n",
              "      <td>0.729373</td>\n",
              "      <td>2.313531</td>\n",
              "      <td>0.544554</td>\n",
              "    </tr>\n",
              "    <tr>\n",
              "      <th>std</th>\n",
              "      <td>9.082101</td>\n",
              "      <td>0.466011</td>\n",
              "      <td>1.032052</td>\n",
              "      <td>17.538143</td>\n",
              "      <td>51.830751</td>\n",
              "      <td>0.356198</td>\n",
              "      <td>0.525860</td>\n",
              "      <td>22.905161</td>\n",
              "      <td>0.469794</td>\n",
              "      <td>1.161075</td>\n",
              "      <td>0.616226</td>\n",
              "      <td>1.022606</td>\n",
              "      <td>0.612277</td>\n",
              "      <td>0.498835</td>\n",
              "    </tr>\n",
              "    <tr>\n",
              "      <th>min</th>\n",
              "      <td>29.000000</td>\n",
              "      <td>0.000000</td>\n",
              "      <td>0.000000</td>\n",
              "      <td>94.000000</td>\n",
              "      <td>126.000000</td>\n",
              "      <td>0.000000</td>\n",
              "      <td>0.000000</td>\n",
              "      <td>71.000000</td>\n",
              "      <td>0.000000</td>\n",
              "      <td>0.000000</td>\n",
              "      <td>0.000000</td>\n",
              "      <td>0.000000</td>\n",
              "      <td>0.000000</td>\n",
              "      <td>0.000000</td>\n",
              "    </tr>\n",
              "    <tr>\n",
              "      <th>25%</th>\n",
              "      <td>47.500000</td>\n",
              "      <td>0.000000</td>\n",
              "      <td>0.000000</td>\n",
              "      <td>120.000000</td>\n",
              "      <td>211.000000</td>\n",
              "      <td>0.000000</td>\n",
              "      <td>0.000000</td>\n",
              "      <td>133.500000</td>\n",
              "      <td>0.000000</td>\n",
              "      <td>0.000000</td>\n",
              "      <td>1.000000</td>\n",
              "      <td>0.000000</td>\n",
              "      <td>2.000000</td>\n",
              "      <td>0.000000</td>\n",
              "    </tr>\n",
              "    <tr>\n",
              "      <th>50%</th>\n",
              "      <td>55.000000</td>\n",
              "      <td>1.000000</td>\n",
              "      <td>1.000000</td>\n",
              "      <td>130.000000</td>\n",
              "      <td>240.000000</td>\n",
              "      <td>0.000000</td>\n",
              "      <td>1.000000</td>\n",
              "      <td>153.000000</td>\n",
              "      <td>0.000000</td>\n",
              "      <td>0.800000</td>\n",
              "      <td>1.000000</td>\n",
              "      <td>0.000000</td>\n",
              "      <td>2.000000</td>\n",
              "      <td>1.000000</td>\n",
              "    </tr>\n",
              "    <tr>\n",
              "      <th>75%</th>\n",
              "      <td>61.000000</td>\n",
              "      <td>1.000000</td>\n",
              "      <td>2.000000</td>\n",
              "      <td>140.000000</td>\n",
              "      <td>274.500000</td>\n",
              "      <td>0.000000</td>\n",
              "      <td>1.000000</td>\n",
              "      <td>166.000000</td>\n",
              "      <td>1.000000</td>\n",
              "      <td>1.600000</td>\n",
              "      <td>2.000000</td>\n",
              "      <td>1.000000</td>\n",
              "      <td>3.000000</td>\n",
              "      <td>1.000000</td>\n",
              "    </tr>\n",
              "    <tr>\n",
              "      <th>max</th>\n",
              "      <td>77.000000</td>\n",
              "      <td>1.000000</td>\n",
              "      <td>3.000000</td>\n",
              "      <td>200.000000</td>\n",
              "      <td>564.000000</td>\n",
              "      <td>1.000000</td>\n",
              "      <td>2.000000</td>\n",
              "      <td>202.000000</td>\n",
              "      <td>1.000000</td>\n",
              "      <td>6.200000</td>\n",
              "      <td>2.000000</td>\n",
              "      <td>4.000000</td>\n",
              "      <td>3.000000</td>\n",
              "      <td>1.000000</td>\n",
              "    </tr>\n",
              "  </tbody>\n",
              "</table>\n",
              "</div>"
            ],
            "text/plain": [
              "              age         sex          cp  ...          ca        thal      target\n",
              "count  303.000000  303.000000  303.000000  ...  303.000000  303.000000  303.000000\n",
              "mean    54.366337    0.683168    0.966997  ...    0.729373    2.313531    0.544554\n",
              "std      9.082101    0.466011    1.032052  ...    1.022606    0.612277    0.498835\n",
              "min     29.000000    0.000000    0.000000  ...    0.000000    0.000000    0.000000\n",
              "25%     47.500000    0.000000    0.000000  ...    0.000000    2.000000    0.000000\n",
              "50%     55.000000    1.000000    1.000000  ...    0.000000    2.000000    1.000000\n",
              "75%     61.000000    1.000000    2.000000  ...    1.000000    3.000000    1.000000\n",
              "max     77.000000    1.000000    3.000000  ...    4.000000    3.000000    1.000000\n",
              "\n",
              "[8 rows x 14 columns]"
            ]
          },
          "metadata": {},
          "execution_count": 270
        }
      ]
    },
    {
      "cell_type": "markdown",
      "metadata": {
        "id": "2UP3ROiblpCQ"
      },
      "source": [
        "**Check the data type of each column**"
      ]
    },
    {
      "cell_type": "code",
      "metadata": {
        "colab": {
          "base_uri": "https://localhost:8080/"
        },
        "id": "Gg_jqkpclpMe",
        "outputId": "163538f8-9f57-4c72-ad79-7edffa3c844c"
      },
      "source": [
        "#check the data type of each column\n",
        "\n",
        "print(df.dtypes)"
      ],
      "execution_count": 271,
      "outputs": [
        {
          "output_type": "stream",
          "name": "stdout",
          "text": [
            "age           int64\n",
            "sex           int64\n",
            "cp            int64\n",
            "trestbps      int64\n",
            "chol          int64\n",
            "fbs           int64\n",
            "restecg       int64\n",
            "thalach       int64\n",
            "exang         int64\n",
            "oldpeak     float64\n",
            "slope         int64\n",
            "ca            int64\n",
            "thal          int64\n",
            "target        int64\n",
            "dtype: object\n"
          ]
        }
      ]
    },
    {
      "cell_type": "markdown",
      "metadata": {
        "id": "I9a3SxRhlpVW"
      },
      "source": [
        "**Display Dataset Information**"
      ]
    },
    {
      "cell_type": "code",
      "metadata": {
        "colab": {
          "base_uri": "https://localhost:8080/"
        },
        "id": "D--2Z--8lpd-",
        "outputId": "d1ba6eb3-2fcb-4dc3-8391-01a9dc47364f"
      },
      "source": [
        "#check to see if all the columns have the same amound of non-null values to decide whether or not we want to clean data\n",
        "\n",
        "df.info()"
      ],
      "execution_count": 272,
      "outputs": [
        {
          "output_type": "stream",
          "name": "stdout",
          "text": [
            "<class 'pandas.core.frame.DataFrame'>\n",
            "RangeIndex: 303 entries, 0 to 302\n",
            "Data columns (total 14 columns):\n",
            " #   Column    Non-Null Count  Dtype  \n",
            "---  ------    --------------  -----  \n",
            " 0   age       303 non-null    int64  \n",
            " 1   sex       303 non-null    int64  \n",
            " 2   cp        303 non-null    int64  \n",
            " 3   trestbps  303 non-null    int64  \n",
            " 4   chol      303 non-null    int64  \n",
            " 5   fbs       303 non-null    int64  \n",
            " 6   restecg   303 non-null    int64  \n",
            " 7   thalach   303 non-null    int64  \n",
            " 8   exang     303 non-null    int64  \n",
            " 9   oldpeak   303 non-null    float64\n",
            " 10  slope     303 non-null    int64  \n",
            " 11  ca        303 non-null    int64  \n",
            " 12  thal      303 non-null    int64  \n",
            " 13  target    303 non-null    int64  \n",
            "dtypes: float64(1), int64(13)\n",
            "memory usage: 33.3 KB\n"
          ]
        }
      ]
    },
    {
      "cell_type": "markdown",
      "metadata": {
        "id": "3FYrvOa3PRzi"
      },
      "source": [
        "**Check the Size of the Data**"
      ]
    },
    {
      "cell_type": "code",
      "metadata": {
        "colab": {
          "base_uri": "https://localhost:8080/"
        },
        "id": "K6oZhNR2PSPO",
        "outputId": "217df3ee-ce7c-4d24-e62c-020cc7a035c1"
      },
      "source": [
        "#numerical depiction of the shape of the data\n",
        "\n",
        "df.shape"
      ],
      "execution_count": 273,
      "outputs": [
        {
          "output_type": "execute_result",
          "data": {
            "text/plain": [
              "(303, 14)"
            ]
          },
          "metadata": {},
          "execution_count": 273
        }
      ]
    },
    {
      "cell_type": "markdown",
      "metadata": {
        "id": "0N-ph_BQPSrW"
      },
      "source": [
        "**Check the names of the columns**"
      ]
    },
    {
      "cell_type": "code",
      "metadata": {
        "colab": {
          "base_uri": "https://localhost:8080/"
        },
        "id": "hz0PoWJIPTH-",
        "outputId": "1e35b20d-7813-46f9-ffe5-6e71f6ec305a"
      },
      "source": [
        "#check the column names\n",
        "\n",
        "df.columns"
      ],
      "execution_count": 274,
      "outputs": [
        {
          "output_type": "execute_result",
          "data": {
            "text/plain": [
              "Index(['age', 'sex', 'cp', 'trestbps', 'chol', 'fbs', 'restecg', 'thalach',\n",
              "       'exang', 'oldpeak', 'slope', 'ca', 'thal', 'target'],\n",
              "      dtype='object')"
            ]
          },
          "metadata": {},
          "execution_count": 274
        }
      ]
    },
    {
      "cell_type": "markdown",
      "metadata": {
        "id": "UANGhpHjPxcR"
      },
      "source": [
        "**Check for missing data**"
      ]
    },
    {
      "cell_type": "code",
      "metadata": {
        "colab": {
          "base_uri": "https://localhost:8080/"
        },
        "id": "rJ6WrYr1PxtS",
        "outputId": "241f4abc-95f6-476f-aa2a-e9a4870c96a1"
      },
      "source": [
        "#confirm that there is no null data\n",
        "\n",
        "df.isnull().sum()"
      ],
      "execution_count": 275,
      "outputs": [
        {
          "output_type": "execute_result",
          "data": {
            "text/plain": [
              "age         0\n",
              "sex         0\n",
              "cp          0\n",
              "trestbps    0\n",
              "chol        0\n",
              "fbs         0\n",
              "restecg     0\n",
              "thalach     0\n",
              "exang       0\n",
              "oldpeak     0\n",
              "slope       0\n",
              "ca          0\n",
              "thal        0\n",
              "target      0\n",
              "dtype: int64"
            ]
          },
          "metadata": {},
          "execution_count": 275
        }
      ]
    },
    {
      "cell_type": "markdown",
      "metadata": {
        "id": "o1vvCvSGP-5N"
      },
      "source": [
        "**Visualize Data to check for Correlations**"
      ]
    },
    {
      "cell_type": "code",
      "metadata": {
        "id": "9X3AiuMCP_Bt"
      },
      "source": [
        "#sns.pairplot(df)"
      ],
      "execution_count": 276,
      "outputs": []
    },
    {
      "cell_type": "code",
      "metadata": {
        "colab": {
          "base_uri": "https://localhost:8080/",
          "height": 0
        },
        "id": "ruzz_NTfJCSX",
        "outputId": "0c7a5ba1-b5f8-4928-9ba6-c7bd27f5d5b2"
      },
      "source": [
        "sns.pairplot(df, vars=(\"target\",\"age\"))"
      ],
      "execution_count": 277,
      "outputs": [
        {
          "output_type": "execute_result",
          "data": {
            "text/plain": [
              "<seaborn.axisgrid.PairGrid at 0x7fea48ad0410>"
            ]
          },
          "metadata": {},
          "execution_count": 277
        },
        {
          "output_type": "display_data",
          "data": {
            "image/png": "[encoded data removed]",
            "text/plain": [
              "<Figure size 360x360 with 6 Axes>"
            ]
          },
          "metadata": {
            "needs_background": "light"
          }
        }
      ]
    },
    {
      "cell_type": "code",
      "metadata": {
        "colab": {
          "base_uri": "https://localhost:8080/",
          "height": 0
        },
        "id": "tduyRm3fG8K3",
        "outputId": "070bf1f9-4650-458d-dd2f-c6fb628d5c86"
      },
      "source": [
        "sns.pairplot(df, vars=(\"target\",\"sex\"))"
      ],
      "execution_count": 278,
      "outputs": [
        {
          "output_type": "execute_result",
          "data": {
            "text/plain": [
              "<seaborn.axisgrid.PairGrid at 0x7fea50be4590>"
            ]
          },
          "metadata": {},
          "execution_count": 278
        },
        {
          "output_type": "display_data",
          "data": {
            "image/png": "[encoded data removed]",
            "text/plain": [
              "<Figure size 360x360 with 6 Axes>"
            ]
          },
          "metadata": {
            "needs_background": "light"
          }
        }
      ]
    },
    {
      "cell_type": "code",
      "metadata": {
        "colab": {
          "base_uri": "https://localhost:8080/",
          "height": 0
        },
        "id": "ITfZlAQJG8UV",
        "outputId": "9205a0ec-a0bb-424b-9576-f38346d163ed"
      },
      "source": [
        "sns.pairplot(df, vars=(\"target\",\"cp\"))"
      ],
      "execution_count": 279,
      "outputs": [
        {
          "output_type": "execute_result",
          "data": {
            "text/plain": [
              "<seaborn.axisgrid.PairGrid at 0x7fea49083990>"
            ]
          },
          "metadata": {},
          "execution_count": 279
        },
        {
          "output_type": "display_data",
          "data": {
            "image/png": "[encoded data removed]",
            "text/plain": [
              "<Figure size 360x360 with 6 Axes>"
            ]
          },
          "metadata": {
            "needs_background": "light"
          }
        }
      ]
    },
    {
      "cell_type": "code",
      "metadata": {
        "colab": {
          "base_uri": "https://localhost:8080/",
          "height": 0
        },
        "id": "yHqoY2kdG8co",
        "outputId": "28658e06-ca4e-4a9f-dd71-ed2012cf262f"
      },
      "source": [
        "sns.pairplot(df, vars=(\"target\",\"restecg\"))"
      ],
      "execution_count": 280,
      "outputs": [
        {
          "output_type": "execute_result",
          "data": {
            "text/plain": [
              "<seaborn.axisgrid.PairGrid at 0x7fea48f35050>"
            ]
          },
          "metadata": {},
          "execution_count": 280
        },
        {
          "output_type": "display_data",
          "data": {
            "image/png": "[encoded data removed]",
            "text/plain": [
              "<Figure size 360x360 with 6 Axes>"
            ]
          },
          "metadata": {
            "needs_background": "light"
          }
        }
      ]
    },
    {
      "cell_type": "code",
      "metadata": {
        "colab": {
          "base_uri": "https://localhost:8080/",
          "height": 0
        },
        "id": "4BCRlwuEG8lD",
        "outputId": "c244e312-2a30-48bf-e10e-6ffd92c0c0cd"
      },
      "source": [
        "sns.pairplot(df, vars=(\"target\",\"thal\"))"
      ],
      "execution_count": 281,
      "outputs": [
        {
          "output_type": "execute_result",
          "data": {
            "text/plain": [
              "<seaborn.axisgrid.PairGrid at 0x7fea48283b90>"
            ]
          },
          "metadata": {},
          "execution_count": 281
        },
        {
          "output_type": "display_data",
          "data": {
            "image/png": "[encoded data removed]",
            "text/plain": [
              "<Figure size 360x360 with 6 Axes>"
            ]
          },
          "metadata": {
            "needs_background": "light"
          }
        }
      ]
    },
    {
      "cell_type": "markdown",
      "metadata": {
        "id": "TeAoAxZ-77Yv"
      },
      "source": [
        "# **Data Preprocessing**"
      ]
    },
    {
      "cell_type": "markdown",
      "metadata": {
        "id": "g9SoXgE_7sNk"
      },
      "source": [
        "**Convert to Numpy Array for easy manipulation**"
      ]
    },
    {
      "cell_type": "code",
      "metadata": {
        "id": "RmZHWS34gZ_E"
      },
      "source": [
        "arr=df.to_numpy()"
      ],
      "execution_count": 282,
      "outputs": []
    },
    {
      "cell_type": "markdown",
      "metadata": {
        "id": "EQyEA6gwgbzA"
      },
      "source": [
        "**Splitting the dataset in the depended and independent variables**"
      ]
    },
    {
      "cell_type": "code",
      "metadata": {
        "colab": {
          "base_uri": "https://localhost:8080/"
        },
        "id": "ZWlMwwg1Qhkn",
        "outputId": "4412c66c-61b1-4735-8416-3f2a23106463"
      },
      "source": [
        "#split the dataset by having the independed variables i.e. the first 13 columns in one array and the dependent variable in another array\n",
        "\n",
        "X= arr[:,0:-1]\n",
        "y= arr[:,-1]\n",
        "print(X)\n",
        "print(y)"
      ],
      "execution_count": 283,
      "outputs": [
        {
          "output_type": "stream",
          "name": "stdout",
          "text": [
            "[[63.  1.  3. ...  0.  0.  1.]\n",
            " [37.  1.  2. ...  0.  0.  2.]\n",
            " [41.  0.  1. ...  2.  0.  2.]\n",
            " ...\n",
            " [68.  1.  0. ...  1.  2.  3.]\n",
            " [57.  1.  0. ...  1.  1.  3.]\n",
            " [57.  0.  1. ...  1.  1.  2.]]\n",
            "[1. 1. 1. 1. 1. 1. 1. 1. 1. 1. 1. 1. 1. 1. 1. 1. 1. 1. 1. 1. 1. 1. 1. 1.\n",
            " 1. 1. 1. 1. 1. 1. 1. 1. 1. 1. 1. 1. 1. 1. 1. 1. 1. 1. 1. 1. 1. 1. 1. 1.\n",
            " 1. 1. 1. 1. 1. 1. 1. 1. 1. 1. 1. 1. 1. 1. 1. 1. 1. 1. 1. 1. 1. 1. 1. 1.\n",
            " 1. 1. 1. 1. 1. 1. 1. 1. 1. 1. 1. 1. 1. 1. 1. 1. 1. 1. 1. 1. 1. 1. 1. 1.\n",
            " 1. 1. 1. 1. 1. 1. 1. 1. 1. 1. 1. 1. 1. 1. 1. 1. 1. 1. 1. 1. 1. 1. 1. 1.\n",
            " 1. 1. 1. 1. 1. 1. 1. 1. 1. 1. 1. 1. 1. 1. 1. 1. 1. 1. 1. 1. 1. 1. 1. 1.\n",
            " 1. 1. 1. 1. 1. 1. 1. 1. 1. 1. 1. 1. 1. 1. 1. 1. 1. 1. 1. 1. 1. 0. 0. 0.\n",
            " 0. 0. 0. 0. 0. 0. 0. 0. 0. 0. 0. 0. 0. 0. 0. 0. 0. 0. 0. 0. 0. 0. 0. 0.\n",
            " 0. 0. 0. 0. 0. 0. 0. 0. 0. 0. 0. 0. 0. 0. 0. 0. 0. 0. 0. 0. 0. 0. 0. 0.\n",
            " 0. 0. 0. 0. 0. 0. 0. 0. 0. 0. 0. 0. 0. 0. 0. 0. 0. 0. 0. 0. 0. 0. 0. 0.\n",
            " 0. 0. 0. 0. 0. 0. 0. 0. 0. 0. 0. 0. 0. 0. 0. 0. 0. 0. 0. 0. 0. 0. 0. 0.\n",
            " 0. 0. 0. 0. 0. 0. 0. 0. 0. 0. 0. 0. 0. 0. 0. 0. 0. 0. 0. 0. 0. 0. 0. 0.\n",
            " 0. 0. 0. 0. 0. 0. 0. 0. 0. 0. 0. 0. 0. 0. 0.]\n"
          ]
        }
      ]
    },
    {
      "cell_type": "markdown",
      "metadata": {
        "id": "HBKgRGHsnLRz"
      },
      "source": [
        "**Splitting the dataset into test sets and train sets**"
      ]
    },
    {
      "cell_type": "code",
      "metadata": {
        "id": "1b9yU0EfnUg4"
      },
      "source": [
        "#split the dataset into a test set and a training set for both arrays created in the step above to avoid influence of the training set on the test set\n",
        "\n",
        "from sklearn.model_selection import train_test_split\n",
        "X_train, X_test, y_train, y_test = train_test_split(X, y, test_size = 0.2, random_state = 0)"
      ],
      "execution_count": 284,
      "outputs": []
    },
    {
      "cell_type": "markdown",
      "metadata": {
        "id": "NPPB279PQhtJ"
      },
      "source": [
        "**Feature Scaling**"
      ]
    },
    {
      "cell_type": "code",
      "metadata": {
        "colab": {
          "base_uri": "https://localhost:8080/"
        },
        "id": "OON3Cmkem_Pm",
        "outputId": "92f9a093-f884-4842-e1cc-71426b5bcdab"
      },
      "source": [
        "#feature scale the data so that we have better accuracy. Necessary since some values are of magnitude 10**2 while others are single digits\n",
        "\n",
        "from sklearn.preprocessing import StandardScaler\n",
        "sc = StandardScaler()\n",
        "X_train = sc.fit_transform(X_train)\n",
        "X_test = sc.transform(X_test)\n",
        "print(X_train)\n",
        "print(X_test)"
      ],
      "execution_count": 285,
      "outputs": [
        {
          "output_type": "stream",
          "name": "stdout",
          "text": [
            "[[-1.32773282 -1.43641607  0.98584243 ... -0.66169316 -0.70710678\n",
            "  -0.46472917]\n",
            " [ 1.24903178 -1.43641607  0.98584243 ... -0.66169316  0.26516504\n",
            "  -0.46472917]\n",
            " [ 0.35276583  0.69617712  0.98584243 ...  0.95577901 -0.70710678\n",
            "  -0.46472917]\n",
            " ...\n",
            " [ 0.12869935  0.69617712  1.94013791 ... -0.66169316 -0.70710678\n",
            "   1.14190596]\n",
            " [-0.87959984  0.69617712  0.98584243 ...  0.95577901 -0.70710678\n",
            "  -0.46472917]\n",
            " [ 0.35276583  0.69617712  0.03154696 ... -0.66169316 -0.70710678\n",
            "  -0.46472917]]\n",
            "[[ 1.69716475  0.69617712 -0.92274852  0.77251645 -1.36354075 -0.41803981\n",
            "   0.90163913 -1.07375268  1.40984195  1.2900049  -2.27916533 -0.70710678\n",
            "   1.14190596]\n",
            " [ 1.02496529  0.69617712  1.94013791  2.23625729 -0.3703119  -0.41803981\n",
            "  -0.97936664  0.22375805 -0.70929937 -0.38883987 -0.66169316 -0.70710678\n",
            "   1.14190596]\n",
            " [ 0.46479907  0.69617712  1.94013791  2.23625729  0.7728383  -0.41803981\n",
            "  -0.97936664  0.39675948 -0.70929937 -0.72460883 -0.66169316 -0.70710678\n",
            "   1.14190596]\n",
            " [ 0.57683232  0.69617712 -0.92274852 -0.39847623  0.21063328 -0.41803981\n",
            "  -0.97936664 -0.38174696  1.40984195  1.45788938 -0.66169316  0.26516504\n",
            "   1.14190596]\n",
            " [ 0.8008988   0.69617712  0.98584243 -0.10572806 -0.29535123 -0.41803981\n",
            "   0.90163913 -0.16549517 -0.70929937  0.61846699 -0.66169316  2.20970869\n",
            "   1.14190596]\n",
            " [-0.7675666   0.69617712 -0.92274852 -0.45702586  0.51047596 -0.41803981\n",
            "  -0.97936664  0.69951198 -0.70929937 -0.47278211 -0.66169316 -0.70710678\n",
            "   1.14190596]\n",
            " [-1.66383254  0.69617712 -0.92274852 -1.27672073 -1.49472192 -0.41803981\n",
            "  -0.97936664 -1.54950661  1.40984195  0.78635147 -0.66169316 -0.70710678\n",
            "   1.14190596]\n",
            " [ 0.91293205  0.69617712 -0.92274852 -0.10572806  0.13567261 -0.41803981\n",
            "  -0.97936664 -0.12224481 -0.70929937  0.28269804 -0.66169316  0.26516504\n",
            "   1.14190596]\n",
            " [ 0.12869935 -1.43641607 -0.92274852  3.9927463   0.7728383   2.39211668\n",
            "  -0.97936664 -0.72774982  1.40984195  2.46519624 -2.27916533  1.23743687\n",
            "   1.14190596]\n",
            " [ 0.91293205  0.69617712 -0.92274852 -0.10572806  1.55992532  2.39211668\n",
            "  -0.97936664 -0.77100017  1.40984195  0.61846699  0.95577901  2.20970869\n",
            "   1.14190596]\n",
            " [ 0.24073259  0.69617712  0.98584243  1.06526461 -2.26306878  2.39211668\n",
            "   0.90163913  1.00226448 -0.70929937 -0.72460883  0.95577901  0.26516504\n",
            "   1.14190596]\n",
            " [-0.65553336 -1.43641607 -0.92274852 -0.10572806  0.41677512 -0.41803981\n",
            "   0.90163913  0.56976091 -0.70929937 -0.89249331  0.95577901 -0.70710678\n",
            "  -0.46472917]\n",
            " [ 1.13699853  0.69617712 -0.92274852  0.18702011  0.13567261 -0.41803981\n",
            "  -0.97936664 -0.98725196 -0.70929937  1.45788938 -0.66169316  0.26516504\n",
            "   1.14190596]\n",
            " [-0.65553336  0.69617712  0.03154696 -0.10572806  0.36055462 -0.41803981\n",
            "   0.90163913  0.91576377 -0.70929937 -0.38883987  0.95577901 -0.70710678\n",
            "  -0.46472917]\n",
            " [-0.54350011 -1.43641607  0.98584243 -0.69122439 -0.52023323 -0.41803981\n",
            "   0.90163913  0.35350912 -0.70929937  0.45058251 -0.66169316 -0.70710678\n",
            "  -0.46472917]\n",
            " [-0.43146687  0.69617712  0.98584243 -1.86221707 -0.46401273 -0.41803981\n",
            "   0.90163913 -0.29524624  1.40984195  0.11481356 -0.66169316 -0.70710678\n",
            "  -0.46472917]\n",
            " [-0.31943363  0.69617712 -0.92274852 -1.39382    -0.25787089  2.39211668\n",
            "   0.90163913 -0.12224481 -0.70929937 -0.80855107  0.95577901  2.20970869\n",
            "   1.14190596]\n",
            " [-0.7675666   0.69617712  0.98584243 -0.45702586  0.15441278  2.39211668\n",
            "   0.90163913  1.0887652  -0.70929937 -0.89249331  0.95577901  1.23743687\n",
            "  -0.46472917]\n",
            " [ 0.8008988   0.69617712 -0.92274852 -0.69122439  0.37929479 -0.41803981\n",
            "   0.90163913 -2.19826197  1.40984195  0.61846699 -0.66169316  1.23743687\n",
            "   1.14190596]\n",
            " [-1.43976606  0.69617712  0.98584243 -0.69122439 -0.12668972  2.39211668\n",
            "   0.90163913  1.91052199 -0.70929937 -0.2209554  -2.27916533 -0.70710678\n",
            "   1.14190596]\n",
            " [-1.43976606  0.69617712 -0.92274852  0.47976828 -0.38905206 -0.41803981\n",
            "   0.90163913  1.21851627 -0.70929937 -0.89249331  0.95577901 -0.70710678\n",
            "  -0.46472917]\n",
            " [-1.77586579  0.69617712 -0.92274852 -0.80832366 -0.52023323 -0.41803981\n",
            "   0.90163913 -0.42499731 -0.70929937  0.11481356 -0.66169316 -0.70710678\n",
            "   1.14190596]\n",
            " [ 0.8008988   0.69617712  0.03154696 -0.69122439  0.64165713 -0.41803981\n",
            "  -0.97936664 -2.02526054 -0.70929937  0.28269804 -0.66169316  0.26516504\n",
            "   1.14190596]\n",
            " [-0.09536714  0.69617712 -0.92274852 -1.27672073 -0.76385541 -0.41803981\n",
            "  -0.97936664 -1.80900875  1.40984195 -0.89249331 -0.66169316  0.26516504\n",
            "  -0.46472917]\n",
            " [-1.5517993   0.69617712  0.03154696 -1.27672073 -0.22039056 -0.41803981\n",
            "   0.90163913  0.13725733 -0.70929937 -0.89249331  0.95577901 -0.70710678\n",
            "  -0.46472917]\n",
            " [ 0.8008988  -1.43641607  0.98584243 -0.10572806  0.30433412 -0.41803981\n",
            "   0.90163913 -2.28476268 -0.70929937  0.11481356 -0.66169316  0.26516504\n",
            "   1.14190596]\n",
            " [-0.31943363  0.69617712 -0.92274852 -0.39847623 -0.6514144  -0.41803981\n",
            "   0.90163913  0.78601269 -0.70929937 -0.05307092  0.95577901  1.23743687\n",
            "   1.14190596]\n",
            " [-0.99163309  0.69617712 -0.92274852 -0.69122439  0.04197178 -0.41803981\n",
            "  -0.97936664 -0.25199588 -0.70929937 -0.2209554   0.95577901 -0.70710678\n",
            "   1.14190596]\n",
            " [-1.77586579 -1.43641607  0.98584243  0.36266901 -0.50149307 -0.41803981\n",
            "   0.90163913  0.09400698 -0.70929937 -0.89249331 -0.66169316 -0.70710678\n",
            "  -0.46472917]\n",
            " [-0.31943363  0.69617712  0.03154696  0.12847048 -0.85755624 -0.41803981\n",
            "   0.90163913  0.35350912 -0.70929937 -0.2209554   0.95577901  0.26516504\n",
            "  -0.46472917]\n",
            " [ 0.57683232  0.69617712  0.98584243  0.47976828 -1.15739892 -0.41803981\n",
            "  -0.97936664  0.22375805 -0.70929937  1.62577385 -0.66169316 -0.70710678\n",
            "  -0.46472917]\n",
            " [-1.10366633  0.69617712 -0.92274852  0.59686755  1.16638181 -0.41803981\n",
            "  -0.97936664 -0.12224481  1.40984195 -0.89249331 -0.66169316  2.20970869\n",
            "   1.14190596]\n",
            " [-1.5517993  -1.43641607  0.03154696 -0.33992659  1.11016131 -0.41803981\n",
            "   0.90163913  0.56976091 -0.70929937 -0.89249331  0.95577901 -0.70710678\n",
            "  -0.46472917]\n",
            " [-0.31943363  0.69617712  0.98584243  2.35335655 -0.89503658  2.39211668\n",
            "   0.90163913  0.52651055 -0.70929937 -0.47278211  0.95577901 -0.70710678\n",
            "   1.14190596]\n",
            " [-2.22399876  0.69617712  0.03154696 -0.57412513 -1.02621775 -0.41803981\n",
            "   0.90163913  1.04551484 -0.70929937 -0.89249331  0.95577901 -0.70710678\n",
            "  -0.46472917]\n",
            " [ 0.46479907 -1.43641607 -0.92274852  2.47045582  0.04197178 -0.41803981\n",
            "   0.90163913 -0.29524624  1.40984195 -0.89249331 -0.66169316 -0.70710678\n",
            "  -0.46472917]\n",
            " [ 1.69716475  0.69617712  0.98584243  1.65076095  0.41677512 -0.41803981\n",
            "   0.90163913 -1.63600732  1.40984195  1.54183161 -0.66169316  0.26516504\n",
            "   1.14190596]\n",
            " [-1.10366633  0.69617712  0.03154696 -0.22282732  1.14764164 -0.41803981\n",
            "  -0.97936664  0.87251341 -0.70929937 -0.89249331  0.95577901 -0.70710678\n",
            "  -0.46472917]\n",
            " [ 0.12869935  0.69617712 -0.92274852 -0.39847623  0.04197178  2.39211668\n",
            "  -0.97936664 -0.25199588  1.40984195  0.11481356 -0.66169316  0.26516504\n",
            "  -0.46472917]\n",
            " [ 0.8008988  -1.43641607 -0.92274852  0.47976828  0.39803495 -0.41803981\n",
            "  -0.97936664  0.44000983 -0.70929937  2.12942728 -2.27916533  1.23743687\n",
            "  -0.46472917]\n",
            " [ 0.24073259  0.69617712 -0.92274852  0.47976828 -1.02621775 -0.41803981\n",
            "   0.90163913 -0.07899445 -0.70929937 -0.55672435 -0.66169316 -0.70710678\n",
            "  -2.0713643 ]\n",
            " [ 0.24073259 -1.43641607 -0.92274852 -0.22282732  1.0539408  -0.41803981\n",
            "  -0.97936664  0.39675948 -0.70929937 -0.89249331  0.95577901  0.26516504\n",
            "  -0.46472917]\n",
            " [-0.31943363  0.69617712  0.98584243  0.36266901 -0.44527257 -0.41803981\n",
            "   0.90163913  0.82926305 -0.70929937 -0.89249331  0.95577901  3.18198052\n",
            "  -0.46472917]\n",
            " [-0.87959984  0.69617712 -0.92274852 -1.27672073  0.52921612 -0.41803981\n",
            "  -0.97936664 -1.37650518  1.40984195 -0.05307092 -0.66169316  0.26516504\n",
            "  -0.46472917]\n",
            " [-0.43146687  0.69617712  1.94013791 -0.39847623 -0.63267424 -0.41803981\n",
            "  -0.97936664 -1.07375268  1.40984195  0.28269804  0.95577901  0.26516504\n",
            "  -0.46472917]\n",
            " [ 1.69716475  0.69617712  0.03154696  1.41656242 -0.03298889 -0.41803981\n",
            "  -0.97936664 -0.29524624 -0.70929937 -0.89249331  0.95577901 -0.70710678\n",
            "  -0.46472917]\n",
            " [-1.5517993   0.69617712  0.98584243 -0.10572806 -0.61393407 -0.41803981\n",
            "  -0.97936664  0.78601269 -0.70929937  0.78635147 -0.66169316 -0.70710678\n",
            "  -0.46472917]\n",
            " [-0.54350011  0.69617712  0.98584243  0.47976828 -0.25787089 -0.41803981\n",
            "   0.90163913  0.56976091 -0.70929937 -0.38883987 -0.66169316  0.26516504\n",
            "   1.14190596]\n",
            " [ 0.12869935 -1.43641607 -0.92274852  0.12847048  3.04039852 -0.41803981\n",
            "  -0.97936664  0.00750626  1.40984195  0.70240923 -0.66169316  1.23743687\n",
            "   1.14190596]\n",
            " [-1.21569957  0.69617712  0.03154696 -0.69122439  0.30433412 -0.41803981\n",
            "   0.90163913  1.00226448 -0.70929937 -0.89249331  0.95577901 -0.70710678\n",
            "   1.14190596]\n",
            " [-0.31943363  0.69617712  0.03154696 -0.69122439  1.46622448 -0.41803981\n",
            "   0.90163913  0.95901412 -0.70929937 -0.72460883  0.95577901 -0.70710678\n",
            "  -0.46472917]\n",
            " [ 2.14529772 -1.43641607  0.03154696 -0.69122439  0.41677512 -0.41803981\n",
            "  -0.97936664 -1.24675411  1.40984195 -0.72460883  0.95577901  0.26516504\n",
            "  -0.46472917]\n",
            " [-1.5517993  -1.43641607  0.98584243 -1.15962146  0.39803495 -0.41803981\n",
            "  -0.97936664  0.95901412  1.40984195 -0.89249331  0.95577901 -0.70710678\n",
            "  -0.46472917]\n",
            " [-1.5517993   0.69617712  0.03154696  0.18702011 -0.82007591 -0.41803981\n",
            "   0.90163913 -0.77100017 -0.70929937 -0.89249331 -0.66169316 -0.70710678\n",
            "  -2.0713643 ]\n",
            " [-1.77586579 -1.43641607  0.98584243 -2.21351487 -0.89503658 -0.41803981\n",
            "   0.90163913  1.26176663 -0.70929937 -0.89249331  0.95577901 -0.70710678\n",
            "  -0.46472917]\n",
            " [-2.22399876  0.69617712 -0.92274852 -0.69122439 -0.91377674 -0.41803981\n",
            "   0.90163913 -0.85750089  1.40984195  0.45058251 -0.66169316 -0.70710678\n",
            "   1.14190596]\n",
            " [-1.21569957 -1.43641607  0.98584243 -0.80832366 -0.08920939 -0.41803981\n",
            "   0.90163913 -0.0357441  -0.70929937 -0.64066659 -0.66169316  0.26516504\n",
            "  -0.46472917]\n",
            " [ 0.24073259 -1.43641607  0.03154696 -0.10572806 -0.20165039 -0.41803981\n",
            "  -0.97936664  1.04551484 -0.70929937 -0.89249331 -0.66169316  0.26516504\n",
            "  -0.46472917]\n",
            " [ 0.46479907  0.69617712  0.98584243  1.06526461 -0.6514144   2.39211668\n",
            "   0.90163913  0.31025876 -0.70929937  0.45058251  0.95577901 -0.70710678\n",
            "  -0.46472917]\n",
            " [-0.54350011 -1.43641607  0.03154696 -0.69122439 -0.05172906 -0.41803981\n",
            "   0.90163913  0.52651055 -0.70929937  0.03087132  0.95577901 -0.70710678\n",
            "  -0.46472917]\n",
            " [ 0.35276583 -1.43641607 -0.92274852 -1.86221707  0.02323161 -0.41803981\n",
            "  -0.97936664 -1.20350375 -0.70929937 -0.05307092 -0.66169316 -0.70710678\n",
            "  -0.46472917]]\n"
          ]
        }
      ]
    },
    {
      "cell_type": "markdown",
      "metadata": {
        "id": "P8lAesZFAVtm"
      },
      "source": [
        "# **Data Analysis Using ANN**"
      ]
    },
    {
      "cell_type": "markdown",
      "metadata": {
        "id": "4ssJv7WLns7T"
      },
      "source": [
        "**Initialize ANN**"
      ]
    },
    {
      "cell_type": "code",
      "metadata": {
        "id": "gARwjZK8ntL2"
      },
      "source": [
        "ann = tf.keras.models.Sequential()"
      ],
      "execution_count": 286,
      "outputs": []
    },
    {
      "cell_type": "markdown",
      "metadata": {
        "id": "aBm7W0uJnxEP"
      },
      "source": [
        "**Adding the first input layer**"
      ]
    },
    {
      "cell_type": "code",
      "metadata": {
        "id": "prKEFKWOnxP3"
      },
      "source": [
        "ann.add(tf.keras.layers.Dense(units=13, activation='relu'))"
      ],
      "execution_count": 287,
      "outputs": []
    },
    {
      "cell_type": "markdown",
      "metadata": {
        "id": "fz1cCII6n7kZ"
      },
      "source": [
        "**Adding the second hidden layer**"
      ]
    },
    {
      "cell_type": "code",
      "metadata": {
        "id": "UMPcwJOin6NV"
      },
      "source": [
        "#ann.add(tf.keras.layers.Dense(units=6, activation='relu'))"
      ],
      "execution_count": 288,
      "outputs": []
    },
    {
      "cell_type": "markdown",
      "metadata": {
        "id": "eNCIXrEfoBO0"
      },
      "source": [
        "**Adding the output layer**"
      ]
    },
    {
      "cell_type": "code",
      "metadata": {
        "id": "PFD8pFEwoBhD"
      },
      "source": [
        "ann.add(tf.keras.layers.Dense(units=1, activation='sigmoid'))"
      ],
      "execution_count": 289,
      "outputs": []
    },
    {
      "cell_type": "markdown",
      "metadata": {
        "id": "2eXrTqtJpIT9"
      },
      "source": [
        "**Compliling the ANN**"
      ]
    },
    {
      "cell_type": "code",
      "metadata": {
        "id": "WRoF9A8DpIga"
      },
      "source": [
        "ann.compile(optimizer = 'adam', loss = 'binary_crossentropy', metrics = ['accuracy'])"
      ],
      "execution_count": 290,
      "outputs": []
    },
    {
      "cell_type": "markdown",
      "metadata": {
        "id": "7dH8IU4vpzZW"
      },
      "source": [
        "**Train the dataset from the train set**"
      ]
    },
    {
      "cell_type": "code",
      "metadata": {
        "colab": {
          "base_uri": "https://localhost:8080/"
        },
        "id": "5nD1wDAZpzlZ",
        "outputId": "238eff0f-3c52-4999-ae8c-3a2cf5cc4612"
      },
      "source": [
        "ann.fit(X_train, y_train, batch_size = 32, epochs = 100)"
      ],
      "execution_count": 291,
      "outputs": [
        {
          "output_type": "stream",
          "name": "stdout",
          "text": [
            "Epoch 1/100\n",
            "8/8 [==============================] - 1s 4ms/step - loss: 0.9134 - accuracy: 0.3182\n",
            "Epoch 2/100\n",
            "8/8 [==============================] - 0s 3ms/step - loss: 0.8708 - accuracy: 0.3347\n",
            "Epoch 3/100\n",
            "8/8 [==============================] - 0s 3ms/step - loss: 0.8304 - accuracy: 0.3636\n",
            "Epoch 4/100\n",
            "8/8 [==============================] - 0s 3ms/step - loss: 0.7955 - accuracy: 0.4174\n",
            "Epoch 5/100\n",
            "8/8 [==============================] - 0s 4ms/step - loss: 0.7625 - accuracy: 0.4421\n",
            "Epoch 6/100\n",
            "8/8 [==============================] - 0s 3ms/step - loss: 0.7303 - accuracy: 0.4835\n",
            "Epoch 7/100\n",
            "8/8 [==============================] - 0s 3ms/step - loss: 0.7024 - accuracy: 0.5331\n",
            "Epoch 8/100\n",
            "8/8 [==============================] - 0s 3ms/step - loss: 0.6760 - accuracy: 0.5992\n",
            "Epoch 9/100\n",
            "8/8 [==============================] - 0s 3ms/step - loss: 0.6505 - accuracy: 0.6281\n",
            "Epoch 10/100\n",
            "8/8 [==============================] - 0s 3ms/step - loss: 0.6282 - accuracy: 0.6983\n",
            "Epoch 11/100\n",
            "8/8 [==============================] - 0s 4ms/step - loss: 0.6065 - accuracy: 0.7273\n",
            "Epoch 12/100\n",
            "8/8 [==============================] - 0s 3ms/step - loss: 0.5870 - accuracy: 0.7479\n",
            "Epoch 13/100\n",
            "8/8 [==============================] - 0s 3ms/step - loss: 0.5676 - accuracy: 0.7562\n",
            "Epoch 14/100\n",
            "8/8 [==============================] - 0s 3ms/step - loss: 0.5501 - accuracy: 0.7686\n",
            "Epoch 15/100\n",
            "8/8 [==============================] - 0s 3ms/step - loss: 0.5341 - accuracy: 0.7769\n",
            "Epoch 16/100\n",
            "8/8 [==============================] - 0s 3ms/step - loss: 0.5189 - accuracy: 0.7934\n",
            "Epoch 17/100\n",
            "8/8 [==============================] - 0s 4ms/step - loss: 0.5043 - accuracy: 0.8099\n",
            "Epoch 18/100\n",
            "8/8 [==============================] - 0s 3ms/step - loss: 0.4911 - accuracy: 0.8140\n",
            "Epoch 19/100\n",
            "8/8 [==============================] - 0s 3ms/step - loss: 0.4789 - accuracy: 0.8182\n",
            "Epoch 20/100\n",
            "8/8 [==============================] - 0s 3ms/step - loss: 0.4680 - accuracy: 0.8264\n",
            "Epoch 21/100\n",
            "8/8 [==============================] - 0s 3ms/step - loss: 0.4572 - accuracy: 0.8264\n",
            "Epoch 22/100\n",
            "8/8 [==============================] - 0s 2ms/step - loss: 0.4473 - accuracy: 0.8264\n",
            "Epoch 23/100\n",
            "8/8 [==============================] - 0s 4ms/step - loss: 0.4386 - accuracy: 0.8306\n",
            "Epoch 24/100\n",
            "8/8 [==============================] - 0s 2ms/step - loss: 0.4297 - accuracy: 0.8264\n",
            "Epoch 25/100\n",
            "8/8 [==============================] - 0s 3ms/step - loss: 0.4222 - accuracy: 0.8306\n",
            "Epoch 26/100\n",
            "8/8 [==============================] - 0s 3ms/step - loss: 0.4151 - accuracy: 0.8347\n",
            "Epoch 27/100\n",
            "8/8 [==============================] - 0s 2ms/step - loss: 0.4086 - accuracy: 0.8347\n",
            "Epoch 28/100\n",
            "8/8 [==============================] - 0s 2ms/step - loss: 0.4018 - accuracy: 0.8430\n",
            "Epoch 29/100\n",
            "8/8 [==============================] - 0s 4ms/step - loss: 0.3962 - accuracy: 0.8471\n",
            "Epoch 30/100\n",
            "8/8 [==============================] - 0s 2ms/step - loss: 0.3909 - accuracy: 0.8471\n",
            "Epoch 31/100\n",
            "8/8 [==============================] - 0s 3ms/step - loss: 0.3861 - accuracy: 0.8595\n",
            "Epoch 32/100\n",
            "8/8 [==============================] - 0s 3ms/step - loss: 0.3813 - accuracy: 0.8636\n",
            "Epoch 33/100\n",
            "8/8 [==============================] - 0s 3ms/step - loss: 0.3771 - accuracy: 0.8595\n",
            "Epoch 34/100\n",
            "8/8 [==============================] - 0s 3ms/step - loss: 0.3731 - accuracy: 0.8595\n",
            "Epoch 35/100\n",
            "8/8 [==============================] - 0s 3ms/step - loss: 0.3696 - accuracy: 0.8512\n",
            "Epoch 36/100\n",
            "8/8 [==============================] - 0s 3ms/step - loss: 0.3660 - accuracy: 0.8554\n",
            "Epoch 37/100\n",
            "8/8 [==============================] - 0s 3ms/step - loss: 0.3628 - accuracy: 0.8554\n",
            "Epoch 38/100\n",
            "8/8 [==============================] - 0s 2ms/step - loss: 0.3599 - accuracy: 0.8595\n",
            "Epoch 39/100\n",
            "8/8 [==============================] - 0s 3ms/step - loss: 0.3572 - accuracy: 0.8595\n",
            "Epoch 40/100\n",
            "8/8 [==============================] - 0s 3ms/step - loss: 0.3543 - accuracy: 0.8636\n",
            "Epoch 41/100\n",
            "8/8 [==============================] - 0s 3ms/step - loss: 0.3519 - accuracy: 0.8636\n",
            "Epoch 42/100\n",
            "8/8 [==============================] - 0s 2ms/step - loss: 0.3494 - accuracy: 0.8636\n",
            "Epoch 43/100\n",
            "8/8 [==============================] - 0s 3ms/step - loss: 0.3473 - accuracy: 0.8636\n",
            "Epoch 44/100\n",
            "8/8 [==============================] - 0s 3ms/step - loss: 0.3452 - accuracy: 0.8636\n",
            "Epoch 45/100\n",
            "8/8 [==============================] - 0s 4ms/step - loss: 0.3431 - accuracy: 0.8636\n",
            "Epoch 46/100\n",
            "8/8 [==============================] - 0s 3ms/step - loss: 0.3411 - accuracy: 0.8636\n",
            "Epoch 47/100\n",
            "8/8 [==============================] - 0s 3ms/step - loss: 0.3394 - accuracy: 0.8636\n",
            "Epoch 48/100\n",
            "8/8 [==============================] - 0s 4ms/step - loss: 0.3377 - accuracy: 0.8678\n",
            "Epoch 49/100\n",
            "8/8 [==============================] - 0s 3ms/step - loss: 0.3360 - accuracy: 0.8678\n",
            "Epoch 50/100\n",
            "8/8 [==============================] - 0s 3ms/step - loss: 0.3344 - accuracy: 0.8678\n",
            "Epoch 51/100\n",
            "8/8 [==============================] - 0s 3ms/step - loss: 0.3329 - accuracy: 0.8678\n",
            "Epoch 52/100\n",
            "8/8 [==============================] - 0s 4ms/step - loss: 0.3314 - accuracy: 0.8678\n",
            "Epoch 53/100\n",
            "8/8 [==============================] - 0s 3ms/step - loss: 0.3301 - accuracy: 0.8636\n",
            "Epoch 54/100\n",
            "8/8 [==============================] - 0s 3ms/step - loss: 0.3286 - accuracy: 0.8595\n",
            "Epoch 55/100\n",
            "8/8 [==============================] - 0s 3ms/step - loss: 0.3272 - accuracy: 0.8595\n",
            "Epoch 56/100\n",
            "8/8 [==============================] - 0s 3ms/step - loss: 0.3260 - accuracy: 0.8595\n",
            "Epoch 57/100\n",
            "8/8 [==============================] - 0s 4ms/step - loss: 0.3246 - accuracy: 0.8595\n",
            "Epoch 58/100\n",
            "8/8 [==============================] - 0s 4ms/step - loss: 0.3233 - accuracy: 0.8595\n",
            "Epoch 59/100\n",
            "8/8 [==============================] - 0s 3ms/step - loss: 0.3221 - accuracy: 0.8595\n",
            "Epoch 60/100\n",
            "8/8 [==============================] - 0s 5ms/step - loss: 0.3209 - accuracy: 0.8595\n",
            "Epoch 61/100\n",
            "8/8 [==============================] - 0s 3ms/step - loss: 0.3198 - accuracy: 0.8595\n",
            "Epoch 62/100\n",
            "8/8 [==============================] - 0s 3ms/step - loss: 0.3186 - accuracy: 0.8595\n",
            "Epoch 63/100\n",
            "8/8 [==============================] - 0s 3ms/step - loss: 0.3176 - accuracy: 0.8595\n",
            "Epoch 64/100\n",
            "8/8 [==============================] - 0s 4ms/step - loss: 0.3164 - accuracy: 0.8595\n",
            "Epoch 65/100\n",
            "8/8 [==============================] - 0s 3ms/step - loss: 0.3151 - accuracy: 0.8595\n",
            "Epoch 66/100\n",
            "8/8 [==============================] - 0s 3ms/step - loss: 0.3141 - accuracy: 0.8595\n",
            "Epoch 67/100\n",
            "8/8 [==============================] - 0s 3ms/step - loss: 0.3132 - accuracy: 0.8595\n",
            "Epoch 68/100\n",
            "8/8 [==============================] - 0s 3ms/step - loss: 0.3121 - accuracy: 0.8595\n",
            "Epoch 69/100\n",
            "8/8 [==============================] - 0s 3ms/step - loss: 0.3111 - accuracy: 0.8595\n",
            "Epoch 70/100\n",
            "8/8 [==============================] - 0s 3ms/step - loss: 0.3102 - accuracy: 0.8595\n",
            "Epoch 71/100\n",
            "8/8 [==============================] - 0s 3ms/step - loss: 0.3093 - accuracy: 0.8595\n",
            "Epoch 72/100\n",
            "8/8 [==============================] - 0s 2ms/step - loss: 0.3084 - accuracy: 0.8595\n",
            "Epoch 73/100\n",
            "8/8 [==============================] - 0s 3ms/step - loss: 0.3075 - accuracy: 0.8636\n",
            "Epoch 74/100\n",
            "8/8 [==============================] - 0s 3ms/step - loss: 0.3065 - accuracy: 0.8678\n",
            "Epoch 75/100\n",
            "8/8 [==============================] - 0s 3ms/step - loss: 0.3057 - accuracy: 0.8678\n",
            "Epoch 76/100\n",
            "8/8 [==============================] - 0s 3ms/step - loss: 0.3050 - accuracy: 0.8678\n",
            "Epoch 77/100\n",
            "8/8 [==============================] - 0s 4ms/step - loss: 0.3040 - accuracy: 0.8678\n",
            "Epoch 78/100\n",
            "8/8 [==============================] - 0s 3ms/step - loss: 0.3033 - accuracy: 0.8678\n",
            "Epoch 79/100\n",
            "8/8 [==============================] - 0s 3ms/step - loss: 0.3024 - accuracy: 0.8678\n",
            "Epoch 80/100\n",
            "8/8 [==============================] - 0s 2ms/step - loss: 0.3016 - accuracy: 0.8678\n",
            "Epoch 81/100\n",
            "8/8 [==============================] - 0s 2ms/step - loss: 0.3009 - accuracy: 0.8719\n",
            "Epoch 82/100\n",
            "8/8 [==============================] - 0s 3ms/step - loss: 0.3000 - accuracy: 0.8678\n",
            "Epoch 83/100\n",
            "8/8 [==============================] - 0s 3ms/step - loss: 0.2993 - accuracy: 0.8678\n",
            "Epoch 84/100\n",
            "8/8 [==============================] - 0s 3ms/step - loss: 0.2983 - accuracy: 0.8678\n",
            "Epoch 85/100\n",
            "8/8 [==============================] - 0s 3ms/step - loss: 0.2975 - accuracy: 0.8678\n",
            "Epoch 86/100\n",
            "8/8 [==============================] - 0s 4ms/step - loss: 0.2968 - accuracy: 0.8636\n",
            "Epoch 87/100\n",
            "8/8 [==============================] - 0s 3ms/step - loss: 0.2960 - accuracy: 0.8595\n",
            "Epoch 88/100\n",
            "8/8 [==============================] - 0s 3ms/step - loss: 0.2955 - accuracy: 0.8595\n",
            "Epoch 89/100\n",
            "8/8 [==============================] - 0s 3ms/step - loss: 0.2947 - accuracy: 0.8636\n",
            "Epoch 90/100\n",
            "8/8 [==============================] - 0s 4ms/step - loss: 0.2940 - accuracy: 0.8595\n",
            "Epoch 91/100\n",
            "8/8 [==============================] - 0s 3ms/step - loss: 0.2932 - accuracy: 0.8595\n",
            "Epoch 92/100\n",
            "8/8 [==============================] - 0s 3ms/step - loss: 0.2924 - accuracy: 0.8595\n",
            "Epoch 93/100\n",
            "8/8 [==============================] - 0s 3ms/step - loss: 0.2916 - accuracy: 0.8595\n",
            "Epoch 94/100\n",
            "8/8 [==============================] - 0s 3ms/step - loss: 0.2907 - accuracy: 0.8595\n",
            "Epoch 95/100\n",
            "8/8 [==============================] - 0s 4ms/step - loss: 0.2901 - accuracy: 0.8595\n",
            "Epoch 96/100\n",
            "8/8 [==============================] - 0s 3ms/step - loss: 0.2893 - accuracy: 0.8595\n",
            "Epoch 97/100\n",
            "8/8 [==============================] - 0s 3ms/step - loss: 0.2885 - accuracy: 0.8595\n",
            "Epoch 98/100\n",
            "8/8 [==============================] - 0s 3ms/step - loss: 0.2878 - accuracy: 0.8595\n",
            "Epoch 99/100\n",
            "8/8 [==============================] - 0s 3ms/step - loss: 0.2868 - accuracy: 0.8636\n",
            "Epoch 100/100\n",
            "8/8 [==============================] - 0s 3ms/step - loss: 0.2861 - accuracy: 0.8678\n"
          ]
        },
        {
          "output_type": "execute_result",
          "data": {
            "text/plain": [
              "<keras.callbacks.History at 0x7fea4803f410>"
            ]
          },
          "metadata": {},
          "execution_count": 291
        }
      ]
    },
    {
      "cell_type": "markdown",
      "metadata": {
        "id": "vsc5M27UAlA1"
      },
      "source": [
        "# **Predicting Results from Trained Data**"
      ]
    },
    {
      "cell_type": "markdown",
      "metadata": {
        "id": "ClqwZQYPqBAC"
      },
      "source": [
        "**Predicting the outcome based on the training set**"
      ]
    },
    {
      "cell_type": "code",
      "metadata": {
        "colab": {
          "base_uri": "https://localhost:8080/"
        },
        "id": "DzPSlVBZqBU3",
        "outputId": "7b1836da-6c45-4040-e53c-dcb4fb4b1d21"
      },
      "source": [
        "y_pred = ann.predict(X_test)\n",
        "y_pred = (y_pred > 0.5)\n",
        "print(np.concatenate((y_pred.reshape(len(y_pred),1), y_test.reshape(len(y_test),1)),1))"
      ],
      "execution_count": 292,
      "outputs": [
        {
          "output_type": "stream",
          "name": "stdout",
          "text": [
            "[[0. 0.]\n",
            " [1. 1.]\n",
            " [1. 0.]\n",
            " [0. 0.]\n",
            " [0. 1.]\n",
            " [0. 0.]\n",
            " [0. 0.]\n",
            " [0. 0.]\n",
            " [0. 0.]\n",
            " [0. 0.]\n",
            " [1. 1.]\n",
            " [1. 1.]\n",
            " [0. 0.]\n",
            " [1. 1.]\n",
            " [1. 1.]\n",
            " [1. 1.]\n",
            " [0. 1.]\n",
            " [1. 1.]\n",
            " [0. 0.]\n",
            " [1. 1.]\n",
            " [1. 1.]\n",
            " [0. 0.]\n",
            " [0. 0.]\n",
            " [0. 0.]\n",
            " [1. 1.]\n",
            " [1. 0.]\n",
            " [0. 0.]\n",
            " [0. 0.]\n",
            " [1. 1.]\n",
            " [1. 1.]\n",
            " [1. 0.]\n",
            " [0. 0.]\n",
            " [1. 1.]\n",
            " [1. 1.]\n",
            " [1. 1.]\n",
            " [1. 0.]\n",
            " [0. 0.]\n",
            " [1. 1.]\n",
            " [0. 0.]\n",
            " [0. 0.]\n",
            " [1. 1.]\n",
            " [1. 1.]\n",
            " [1. 1.]\n",
            " [0. 0.]\n",
            " [0. 1.]\n",
            " [1. 1.]\n",
            " [1. 1.]\n",
            " [1. 0.]\n",
            " [0. 0.]\n",
            " [1. 1.]\n",
            " [1. 1.]\n",
            " [1. 1.]\n",
            " [1. 1.]\n",
            " [1. 1.]\n",
            " [1. 1.]\n",
            " [0. 0.]\n",
            " [1. 1.]\n",
            " [1. 0.]\n",
            " [1. 1.]\n",
            " [1. 1.]\n",
            " [1. 1.]]\n"
          ]
        }
      ]
    },
    {
      "cell_type": "markdown",
      "metadata": {
        "id": "HksZXnZK6dhG"
      },
      "source": [
        "**Calculating the confusion matrix**"
      ]
    },
    {
      "cell_type": "code",
      "metadata": {
        "colab": {
          "base_uri": "https://localhost:8080/"
        },
        "id": "BesKZkhN6dso",
        "outputId": "a82ec219-9b12-4b54-9a9c-3ed2baedd05e"
      },
      "source": [
        "from sklearn.metrics import confusion_matrix, accuracy_score\n",
        "cm = confusion_matrix(y_test, y_pred)\n",
        "print(cm)\n",
        "accuracy_score(y_test, y_pred)"
      ],
      "execution_count": 293,
      "outputs": [
        {
          "output_type": "stream",
          "name": "stdout",
          "text": [
            "[[21  6]\n",
            " [ 3 31]]\n"
          ]
        },
        {
          "output_type": "execute_result",
          "data": {
            "text/plain": [
              "0.8524590163934426"
            ]
          },
          "metadata": {},
          "execution_count": 293
        }
      ]
    }
  ]
}